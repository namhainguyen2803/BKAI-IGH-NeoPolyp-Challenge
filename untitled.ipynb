{
 "cells": [
  {
   "cell_type": "code",
   "execution_count": 4,
   "metadata": {
    "collapsed": true,
    "ExecuteTime": {
     "end_time": "2023-11-17T04:31:10.193715Z",
     "start_time": "2023-11-17T04:31:10.192123Z"
    }
   },
   "outputs": [
    {
     "data": {
      "text/plain": "['conme.ditmemay', 'pth']"
     },
     "execution_count": 4,
     "metadata": {},
     "output_type": "execute_result"
    }
   ],
   "source": [
    "hello = \"conme.ditmemay.pth\"\n",
    "\n",
    "hello.rsplit(\".\", 1)"
   ]
  },
  {
   "cell_type": "code",
   "execution_count": 12,
   "outputs": [
    {
     "data": {
      "text/plain": "'/lonmemay/checkpoint/unpthmodel.pth'"
     },
     "execution_count": 12,
     "metadata": {},
     "output_type": "execute_result"
    }
   ],
   "source": [
    "concac = \"lonmemay/checkpoint/model.zip\"\n",
    "\n",
    "concac = \"/\" + concac\n",
    "\n",
    "loz = concac.rsplit(\"/\", 1)\n",
    "\n",
    "loz  = loz[0] + \"/unzip\" + loz[1]\n",
    "\n",
    "loz.replace(\"zip\", \"pth\")"
   ],
   "metadata": {
    "collapsed": false,
    "ExecuteTime": {
     "end_time": "2023-11-17T04:54:53.032455Z",
     "start_time": "2023-11-17T04:54:53.027956Z"
    }
   }
  },
  {
   "cell_type": "code",
   "execution_count": 11,
   "outputs": [],
   "source": [],
   "metadata": {
    "collapsed": false,
    "ExecuteTime": {
     "end_time": "2023-11-17T04:54:51.197610Z",
     "start_time": "2023-11-17T04:54:51.190574Z"
    }
   }
  },
  {
   "cell_type": "code",
   "execution_count": null,
   "outputs": [],
   "source": [],
   "metadata": {
    "collapsed": false
   }
  }
 ],
 "metadata": {
  "kernelspec": {
   "display_name": "Python 3",
   "language": "python",
   "name": "python3"
  },
  "language_info": {
   "codemirror_mode": {
    "name": "ipython",
    "version": 2
   },
   "file_extension": ".py",
   "mimetype": "text/x-python",
   "name": "python",
   "nbconvert_exporter": "python",
   "pygments_lexer": "ipython2",
   "version": "2.7.6"
  }
 },
 "nbformat": 4,
 "nbformat_minor": 0
}
